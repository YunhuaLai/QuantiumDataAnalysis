{
 "cells": [
  {
   "cell_type": "code",
   "execution_count": 1,
   "id": "b4460114",
   "metadata": {},
   "outputs": [],
   "source": [
    "# Import necessary libraries\n",
    "import pandas as pd\n",
    "import matplotlib.pyplot as plt\n",
    "import seaborn as sns\n"
   ]
  },
  {
   "cell_type": "code",
   "execution_count": 2,
   "id": "8b4d1a5f",
   "metadata": {},
   "outputs": [
    {
     "name": "stdout",
     "output_type": "stream",
     "text": [
      "Dataset Preview:\n",
      "         DATE  STORE_NBR  LYLTY_CARD_NBR  TXN_ID  PROD_NBR  \\\n",
      "0  2018-10-17          1            1000       1         5   \n",
      "1  2019-05-14          1            1307     348        66   \n",
      "2  2019-05-20          1            1343     383        61   \n",
      "3  2018-08-17          2            2373     974        69   \n",
      "4  2018-08-18          2            2426    1038       108   \n",
      "\n",
      "                                  PROD_NAME  PROD_QTY  TOT_SALES  PACK_SIZE  \\\n",
      "0    Natural Chip        Compny SeaSalt175g         2        6.0        175   \n",
      "1                  CCs Nacho Cheese    175g         3        6.3        175   \n",
      "2    Smiths Crinkle Cut  Chips Chicken 170g         2        2.9        170   \n",
      "3    Smiths Chip Thinly  S/Cream&Onion 175g         5       15.0        175   \n",
      "4  Kettle Tortilla ChpsHny&Jlpno Chili 150g         3       13.8        150   \n",
      "\n",
      "    BRAND               LIFESTAGE PREMIUM_CUSTOMER  \n",
      "0     NCC   YOUNG SINGLES/COUPLES          Premium  \n",
      "1     CCs  MIDAGE SINGLES/COUPLES           Budget  \n",
      "2  Smiths  MIDAGE SINGLES/COUPLES           Budget  \n",
      "3  Smiths  MIDAGE SINGLES/COUPLES           Budget  \n",
      "4  Kettle  MIDAGE SINGLES/COUPLES           Budget  \n"
     ]
    }
   ],
   "source": [
    "# Load the dataset\n",
    "data = pd.read_csv(f\"QVI_data.csv\")\n",
    "\n",
    "# Display the first few rows to verify\n",
    "print(\"Dataset Preview:\")\n",
    "print(data.head())\n"
   ]
  },
  {
   "cell_type": "markdown",
   "id": "230ba57d",
   "metadata": {},
   "source": [
    "## Select control stores"
   ]
  },
  {
   "cell_type": "code",
   "execution_count": 3,
   "id": "453a6eea",
   "metadata": {},
   "outputs": [
    {
     "name": "stdout",
     "output_type": "stream",
     "text": [
      "Metrics of Interest:\n",
      "   STORE_NBR    MONTH  Monthly_Revenue  Monthly_Customers  \\\n",
      "0          1  2018-07            188.9                 47   \n",
      "1          1  2018-08            168.4                 41   \n",
      "2          1  2018-09            268.1                 57   \n",
      "3          1  2018-10            175.4                 39   \n",
      "4          1  2018-11            184.8                 44   \n",
      "\n",
      "   Monthly_Transactions  Transactions_Per_Customer  \n",
      "0                    49                   1.042553  \n",
      "1                    41                   1.000000  \n",
      "2                    59                   1.035088  \n",
      "3                    40                   1.025641  \n",
      "4                    45                   1.022727  \n"
     ]
    }
   ],
   "source": [
    "# Ensure the DATE column is in datetime format\n",
    "data['DATE'] = pd.to_datetime(data['DATE'])\n",
    "\n",
    "# Extract the month and year for aggregation\n",
    "data['MONTH'] = data['DATE'].dt.to_period('M')\n",
    "\n",
    "# Calculate metrics for each store and month\n",
    "metrics = data.groupby(['STORE_NBR', 'MONTH']).agg(\n",
    "    Monthly_Revenue=('TOT_SALES', 'sum'),\n",
    "    Monthly_Customers=('LYLTY_CARD_NBR', 'nunique'),\n",
    "    Monthly_Transactions=('TXN_ID', 'nunique')\n",
    ").reset_index()\n",
    "\n",
    "# Add monthly transactions per customer\n",
    "metrics['Transactions_Per_Customer'] = metrics['Monthly_Transactions'] / metrics['Monthly_Customers']\n",
    "\n",
    "# Preview the metrics\n",
    "print(\"Metrics of Interest:\")\n",
    "print(metrics.head())\n"
   ]
  },
  {
   "cell_type": "code",
   "execution_count": 4,
   "id": "f88032a5",
   "metadata": {},
   "outputs": [
    {
     "name": "stdout",
     "output_type": "stream",
     "text": [
      "\n",
      "Stores Operational During Pre-Trial Period:\n",
      "[  1   2   3   4   5   6   7   8   9  10  12  13  14  15  16  17  18  19\n",
      "  20  21  22  23  24  25  26  27  28  29  30  32  33  34  35  36  37  38\n",
      "  39  40  41  42  43  45  46  47  48  49  50  51  52  53  54  55  56  57\n",
      "  58  59  60  61  62  63  64  65  66  67  68  69  70  71  72  73  74  75\n",
      "  77  78  79  80  81  82  83  84  86  87  88  89  90  91  93  94  95  96\n",
      "  97  98  99 100 101 102 103 104 105 106 107 108 109 110 111 112 113 114\n",
      " 115 116 118 119 120 121 122 123 124 125 126 127 128 129 130 131 132 133\n",
      " 134 135 136 137 138 139 140 141 142 143 144 145 146 147 148 149 150 151\n",
      " 152 153 154 155 156 157 158 159 160 161 162 163 164 165 166 167 168 169\n",
      " 170 171 172 173 174 175 176 177 178 179 180 181 182 183 184 185 186 187\n",
      " 188 189 190 191 192 194 195 196 197 198 199 200 201 202 203 204 205 207\n",
      " 208 209 210 212 213 214 215 216 217 219 220 221 222 223 224 225 226 227\n",
      " 228 229 230 231 232 233 234 235 236 237 238 239 240 241 242 243 244 245\n",
      " 246 247 248 249 250 251 253 254 255 256 257 258 259 260 261 262 263 264\n",
      " 265 266 267 268 269 270 271 272]\n"
     ]
    }
   ],
   "source": [
    "# Define the pre-trial period\n",
    "pre_trial_period = pd.period_range(start=\"2018-07\", end=\"2019-01\", freq='M')\n",
    "\n",
    "# Filter stores present for the entire pre-trial period\n",
    "stores_in_pre_trial = metrics.groupby('STORE_NBR').filter(\n",
    "    lambda x: set(pre_trial_period).issubset(set(x['MONTH']))\n",
    ")['STORE_NBR'].unique()\n",
    "\n",
    "# Filter metrics for stores operational during pre-trial\n",
    "filtered_metrics = metrics[metrics['STORE_NBR'].isin(stores_in_pre_trial)]\n",
    "\n",
    "# Preview the filtered metrics\n",
    "print(\"\\nStores Operational During Pre-Trial Period:\")\n",
    "print(filtered_metrics['STORE_NBR'].unique())\n"
   ]
  },
  {
   "cell_type": "code",
   "execution_count": 5,
   "id": "c40300a9",
   "metadata": {},
   "outputs": [
    {
     "name": "stdout",
     "output_type": "stream",
     "text": [
      "Data with YEARMONTH Column:\n",
      "        DATE YEARMONTH\n",
      "0 2018-10-17    201810\n",
      "1 2019-05-14    201905\n",
      "2 2019-05-20    201905\n",
      "3 2018-08-17    201808\n",
      "4 2018-08-18    201808\n"
     ]
    }
   ],
   "source": [
    "# Add a YEARMONTH column in the format yyyymm\n",
    "data['YEARMONTH'] = data['DATE'].dt.strftime('%Y%m')\n",
    "\n",
    "# Verify the results\n",
    "print(\"Data with YEARMONTH Column:\")\n",
    "print(data[['DATE', 'YEARMONTH']].head())\n"
   ]
  },
  {
   "cell_type": "code",
   "execution_count": 6,
   "id": "f37bd917",
   "metadata": {},
   "outputs": [
    {
     "name": "stdout",
     "output_type": "stream",
     "text": [
      "Measure Over Time:\n",
      "   STORE_NBR YEARMONTH  totSales  nCustomers  nTxnPerCust  nChipsPerTxn  \\\n",
      "0          1    201807     188.9          47          1.0      1.183673   \n",
      "1          1    201808     168.4          41          1.0      1.268293   \n",
      "2          1    201809     268.1          57          1.0      1.203390   \n",
      "3          1    201810     175.4          39          1.0      1.275000   \n",
      "4          1    201811     184.8          44          1.0      1.222222   \n",
      "\n",
      "   avgPricePerUnit  \n",
      "0         3.256897  \n",
      "1         3.238462  \n",
      "2         3.776056  \n",
      "3         3.439216  \n",
      "4         3.360000  \n"
     ]
    }
   ],
   "source": [
    "# Group data by store and YEARMONTH\n",
    "measure_over_time = data.groupby(['STORE_NBR', 'YEARMONTH']).agg(\n",
    "    totSales=('TOT_SALES', 'sum'),  # Total sales\n",
    "    nCustomers=('LYLTY_CARD_NBR', 'nunique'),  # Number of unique customers\n",
    "    nTxnPerCust=('TXN_ID', lambda x: x.nunique() / x.nunique()),  # Transactions per customer\n",
    "    nChipsPerTxn=('PROD_QTY', 'mean'),  # Chips per transaction\n",
    "    avgPricePerUnit=('TOT_SALES', lambda x: x.sum() / data.loc[x.index, 'PROD_QTY'].sum())  # Average price per unit\n",
    ").reset_index()\n",
    "\n",
    "# Sort the results\n",
    "measure_over_time = measure_over_time.sort_values(by=['STORE_NBR', 'YEARMONTH'])\n",
    "\n",
    "# Display the results\n",
    "print(\"Measure Over Time:\")\n",
    "print(measure_over_time.head())\n"
   ]
  },
  {
   "cell_type": "code",
   "execution_count": 7,
   "id": "a3419e96",
   "metadata": {},
   "outputs": [
    {
     "name": "stdout",
     "output_type": "stream",
     "text": [
      "Stores with Full Observation Periods:\n",
      "[1, 2, 3, 4, 5, 6, 7, 8, 9, 10, 12, 13, 14, 15, 16, 17, 18, 19, 20, 21, 22, 23, 24, 25, 26, 27, 28, 29, 30, 32, 33, 34, 35, 36, 37, 38, 39, 40, 41, 42, 43, 45, 46, 47, 48, 49, 50, 51, 52, 53, 54, 55, 56, 57, 58, 59, 60, 61, 62, 63, 64, 65, 66, 67, 68, 69, 70, 71, 72, 73, 74, 75, 77, 78, 79, 80, 81, 82, 83, 84, 86, 87, 88, 89, 90, 91, 93, 94, 95, 96, 97, 98, 99, 100, 101, 102, 103, 104, 105, 106, 107, 108, 109, 110, 111, 112, 113, 114, 115, 116, 118, 119, 120, 121, 122, 123, 124, 125, 126, 127, 128, 129, 130, 131, 132, 133, 134, 135, 136, 137, 138, 139, 140, 141, 142, 143, 144, 145, 146, 147, 148, 149, 150, 151, 152, 153, 154, 155, 156, 157, 158, 159, 160, 161, 162, 163, 164, 165, 166, 167, 168, 169, 170, 171, 172, 173, 174, 175, 176, 178, 179, 180, 181, 182, 183, 184, 185, 186, 187, 188, 189, 190, 191, 192, 194, 195, 196, 197, 198, 199, 200, 201, 202, 203, 204, 205, 207, 208, 209, 210, 212, 213, 214, 215, 216, 217, 219, 220, 221, 222, 223, 224, 225, 226, 227, 228, 229, 230, 231, 232, 233, 234, 235, 236, 237, 238, 239, 240, 241, 242, 243, 244, 245, 246, 247, 248, 249, 250, 251, 253, 254, 255, 256, 257, 258, 259, 260, 261, 262, 263, 264, 265, 266, 267, 268, 269, 270, 271, 272]\n"
     ]
    }
   ],
   "source": [
    "# Count the number of months each store is observed\n",
    "stores_with_full_obs = (\n",
    "    measure_over_time.groupby('STORE_NBR')['YEARMONTH'].nunique()\n",
    "    .reset_index()\n",
    "    .query(\"YEARMONTH == 12\")  # Filter for stores observed for 12 months\n",
    "    ['STORE_NBR']\n",
    "    .tolist()\n",
    ")\n",
    "\n",
    "# Display the stores with full observation periods\n",
    "print(\"Stores with Full Observation Periods:\")\n",
    "print(stores_with_full_obs)\n"
   ]
  },
  {
   "cell_type": "code",
   "execution_count": 8,
   "id": "335c108a",
   "metadata": {},
   "outputs": [
    {
     "name": "stdout",
     "output_type": "stream",
     "text": [
      "\n",
      "Pre-Trial Measures:\n",
      "   STORE_NBR YEARMONTH  totSales  nCustomers  nTxnPerCust  nChipsPerTxn  \\\n",
      "0          1    201807     188.9          47          1.0      1.183673   \n",
      "1          1    201808     168.4          41          1.0      1.268293   \n",
      "2          1    201809     268.1          57          1.0      1.203390   \n",
      "3          1    201810     175.4          39          1.0      1.275000   \n",
      "4          1    201811     184.8          44          1.0      1.222222   \n",
      "\n",
      "   avgPricePerUnit  \n",
      "0         3.256897  \n",
      "1         3.238462  \n",
      "2         3.776056  \n",
      "3         3.439216  \n",
      "4         3.360000  \n"
     ]
    }
   ],
   "source": [
    "# Filter to the pre-trial period and stores with full observations\n",
    "pre_trial_measures = measure_over_time[\n",
    "    (measure_over_time['YEARMONTH'] < '201902') &  # Pre-trial period\n",
    "    (measure_over_time['STORE_NBR'].isin(stores_with_full_obs))  # Stores with full obs\n",
    "]\n",
    "\n",
    "# Display the filtered data\n",
    "print(\"\\nPre-Trial Measures:\")\n",
    "print(pre_trial_measures.head())\n"
   ]
  },
  {
   "cell_type": "markdown",
   "id": "faf961c5",
   "metadata": {},
   "source": [
    "## Create function to calculate correlation"
   ]
  },
  {
   "cell_type": "code",
   "execution_count": 9,
   "id": "3f9b119c",
   "metadata": {},
   "outputs": [],
   "source": [
    "def calculate_correlation(input_table, metric_col, store_comparison):\n",
    "    \"\"\"\n",
    "    Calculate correlation of a specified metric between a trial store and potential control stores.\n",
    "\n",
    "    Parameters:\n",
    "        input_table (DataFrame): The data containing store metrics.\n",
    "        metric_col (str): The name of the metric column to calculate correlation.\n",
    "        store_comparison (int): The store number of the trial store.\n",
    "\n",
    "    Returns:\n",
    "        DataFrame: A table of correlations between the trial store and potential control stores.\n",
    "    \"\"\"\n",
    "    # Extract unique store numbers excluding the trial store\n",
    "    store_numbers = input_table['STORE_NBR'].unique()\n",
    "    store_numbers = [store for store in store_numbers if store != store_comparison]\n",
    "    \n",
    "    # Initialize a list to hold correlation results\n",
    "    corr_results = []\n",
    "\n",
    "    # Filter the trial store's data\n",
    "    trial_data = input_table[input_table['STORE_NBR'] == store_comparison]\n",
    "\n",
    "    # Loop through each potential control store\n",
    "    for store in store_numbers:\n",
    "        # Filter data for the current control store\n",
    "        control_data = input_table[input_table['STORE_NBR'] == store]\n",
    "\n",
    "        # Merge trial and control store data on the YEARMONTH column\n",
    "        merged_data = pd.merge(trial_data, control_data, on='YEARMONTH', suffixes=('_trial', '_control'))\n",
    "\n",
    "        # Calculate correlation for the specified metric\n",
    "        corr_measure = merged_data[f\"{metric_col}_trial\"].corr(merged_data[f\"{metric_col}_control\"])\n",
    "\n",
    "        # Append results to the list\n",
    "        corr_results.append({\n",
    "            'Store1': store_comparison,\n",
    "            'Store2': store,\n",
    "            'corr_measure': corr_measure\n",
    "        })\n",
    "\n",
    "    # Convert results to a DataFrame\n",
    "    corr_table = pd.DataFrame(corr_results)\n",
    "\n",
    "    return corr_table\n"
   ]
  },
  {
   "cell_type": "code",
   "execution_count": null,
   "id": "c7512c4e",
   "metadata": {},
   "outputs": [],
   "source": []
  },
  {
   "cell_type": "markdown",
   "id": "0f59ac75",
   "metadata": {},
   "source": [
    "## Create function to calculate magnitude distance"
   ]
  },
  {
   "cell_type": "code",
   "execution_count": 11,
   "id": "cfccc7d0",
   "metadata": {},
   "outputs": [],
   "source": [
    "def calculate_magnitude_distance(input_table, metric_col, store_comparison):\n",
    "    \"\"\"\n",
    "    Calculate a standardized magnitude distance for a given metric between\n",
    "    a trial store and potential control stores.\n",
    "\n",
    "    Parameters:\n",
    "        input_table (DataFrame): The data containing store metrics.\n",
    "        metric_col (str): The name of the metric column used for calculation.\n",
    "        store_comparison (int): The store number of the trial store.\n",
    "\n",
    "    Returns:\n",
    "        DataFrame: A table of standardized magnitude distances between the trial store\n",
    "                   and potential control stores.\n",
    "    \"\"\"\n",
    "    # Get unique store numbers\n",
    "    store_numbers = input_table['STORE_NBR'].unique()\n",
    "    \n",
    "    # Initialize a list to hold magnitude distance results\n",
    "    dist_results = []\n",
    "\n",
    "    # Loop through each store\n",
    "    for store in store_numbers:\n",
    "        # Filter data for the trial store and current control store\n",
    "        trial_data = input_table[input_table['STORE_NBR'] == store_comparison]\n",
    "        control_data = input_table[input_table['STORE_NBR'] == store]\n",
    "\n",
    "        # Merge on YEARMONTH to align metrics\n",
    "        merged_data = pd.merge(trial_data, control_data, on='YEARMONTH', suffixes=('_trial', '_control'))\n",
    "\n",
    "        # Calculate the absolute difference\n",
    "        merged_data['measure'] = abs(merged_data[f\"{metric_col}_trial\"] - merged_data[f\"{metric_col}_control\"])\n",
    "\n",
    "        # Add to the results\n",
    "        for _, row in merged_data.iterrows():\n",
    "            dist_results.append({\n",
    "                'Store1': store_comparison,\n",
    "                'Store2': store,\n",
    "                'YEARMONTH': row['YEARMONTH'],\n",
    "                'measure': row['measure']\n",
    "            })\n",
    "\n",
    "    # Convert results to a DataFrame\n",
    "    dist_table = pd.DataFrame(dist_results)\n",
    "\n",
    "    # Standardize the magnitude distance\n",
    "    min_max_dist = dist_table.groupby(['Store1', 'YEARMONTH']).agg(\n",
    "        minDist=('measure', 'min'),\n",
    "        maxDist=('measure', 'max')\n",
    "    ).reset_index()\n",
    "\n",
    "    # Merge with original distance table\n",
    "    dist_table = pd.merge(dist_table, min_max_dist, on=['Store1', 'YEARMONTH'])\n",
    "    dist_table['magnitudeMeasure'] = 1 - (dist_table['measure'] - dist_table['minDist']) / (dist_table['maxDist'] - dist_table['minDist'])\n",
    "\n",
    "    # Calculate the mean magnitude measure for each store pair\n",
    "    final_dist_table = dist_table.groupby(['Store1', 'Store2']).agg(\n",
    "        mag_measure=('magnitudeMeasure', 'mean')\n",
    "    ).reset_index()\n",
    "\n",
    "    return final_dist_table\n"
   ]
  },
  {
   "cell_type": "markdown",
   "id": "011e658e",
   "metadata": {},
   "source": [
    "## Use functions to calculate metrics"
   ]
  },
  {
   "cell_type": "code",
   "execution_count": 14,
   "id": "6e804c76",
   "metadata": {},
   "outputs": [
    {
     "name": "stdout",
     "output_type": "stream",
     "text": [
      "Correlation for Total Sales:\n",
      "     Store1  Store2  corr_measure\n",
      "0        77       1     -0.005382\n",
      "1        77       2     -0.251183\n",
      "2        77       3      0.660447\n",
      "3        77       4     -0.347846\n",
      "4        77       5     -0.139048\n",
      "..      ...     ...           ...\n",
      "253      77     268      0.395460\n",
      "254      77     269     -0.466370\n",
      "255      77     270      0.274854\n",
      "256      77     271      0.195190\n",
      "257      77     272     -0.179647\n",
      "\n",
      "[258 rows x 3 columns]\n",
      "\n",
      "Correlation for Number of Customers:\n",
      "     Store1  Store2  corr_measure\n",
      "0        77       1      0.337866\n",
      "1        77       2     -0.596492\n",
      "2        77       3      0.755249\n",
      "3        77       4     -0.305412\n",
      "4        77       5      0.224768\n",
      "..      ...     ...           ...\n",
      "253      77     268      0.369736\n",
      "254      77     269     -0.247581\n",
      "255      77     270     -0.009182\n",
      "256      77     271      0.023635\n",
      "257      77     272      0.068677\n",
      "\n",
      "[258 rows x 3 columns]\n"
     ]
    }
   ],
   "source": [
    "# Define the trial store\n",
    "trial_store = 77\n",
    "\n",
    "# Calculate correlations for total sales\n",
    "corr_nSales = calculate_correlation(\n",
    "    input_table=pre_trial_measures,\n",
    "    metric_col='totSales',\n",
    "    store_comparison=trial_store\n",
    ")\n",
    "\n",
    "# Calculate correlations for number of customers\n",
    "corr_nCustomers = calculate_correlation(\n",
    "    input_table=pre_trial_measures,\n",
    "    metric_col='nCustomers',\n",
    "    store_comparison=trial_store\n",
    ")\n",
    "\n",
    "# Display correlation results\n",
    "print(\"Correlation for Total Sales:\")\n",
    "print(corr_nSales)\n",
    "print(\"\\nCorrelation for Number of Customers:\")\n",
    "print(corr_nCustomers)\n"
   ]
  },
  {
   "cell_type": "code",
   "execution_count": 15,
   "id": "107ae1ae",
   "metadata": {},
   "outputs": [
    {
     "name": "stdout",
     "output_type": "stream",
     "text": [
      "\n",
      "Magnitude Distance for Total Sales:\n",
      "     Store1  Store2  mag_measure\n",
      "0        77       1     0.952537\n",
      "1        77       2     0.936070\n",
      "2        77       3     0.344996\n",
      "3        77       4     0.180850\n",
      "4        77       5     0.564457\n",
      "..      ...     ...          ...\n",
      "254      77     268     0.962489\n",
      "255      77     269     0.454641\n",
      "256      77     270     0.457923\n",
      "257      77     271     0.572021\n",
      "258      77     272     0.891748\n",
      "\n",
      "[259 rows x 3 columns]\n",
      "\n",
      "Magnitude Distance for Number of Customers:\n",
      "     Store1  Store2  mag_measure\n",
      "0        77       1     0.939115\n",
      "1        77       2     0.908732\n",
      "2        77       3     0.343159\n",
      "3        77       4     0.202260\n",
      "4        77       5     0.513580\n",
      "..      ...     ...          ...\n",
      "254      77     268     0.943515\n",
      "255      77     269     0.362421\n",
      "256      77     270     0.391005\n",
      "257      77     271     0.524520\n",
      "258      77     272     0.948150\n",
      "\n",
      "[259 rows x 3 columns]\n"
     ]
    }
   ],
   "source": [
    "# Calculate magnitude distance for total sales\n",
    "magnitude_nSales = calculate_magnitude_distance(\n",
    "    input_table=pre_trial_measures,\n",
    "    metric_col='totSales',\n",
    "    store_comparison=trial_store\n",
    ")\n",
    "\n",
    "# Calculate magnitude distance for number of customers\n",
    "magnitude_nCustomers = calculate_magnitude_distance(\n",
    "    input_table=pre_trial_measures,\n",
    "    metric_col='nCustomers',\n",
    "    store_comparison=trial_store\n",
    ")\n",
    "\n",
    "# Display magnitude distance results\n",
    "print(\"\\nMagnitude Distance for Total Sales:\")\n",
    "print(magnitude_nSales)\n",
    "print(\"\\nMagnitude Distance for Number of Customers:\")\n",
    "print(magnitude_nCustomers)\n"
   ]
  },
  {
   "cell_type": "code",
   "execution_count": 16,
   "id": "bda3ee7b",
   "metadata": {},
   "outputs": [
    {
     "name": "stdout",
     "output_type": "stream",
     "text": [
      "\n",
      "Final Scores Table:\n",
      "     Store1  Store2  Correlation_Sales  Correlation_Customers  \\\n",
      "0        77       1          -0.005382               0.337866   \n",
      "1        77       2          -0.251183              -0.596492   \n",
      "2        77       3           0.660447               0.755249   \n",
      "3        77       4          -0.347846              -0.305412   \n",
      "4        77       5          -0.139048               0.224768   \n",
      "..      ...     ...                ...                    ...   \n",
      "253      77     268           0.395460               0.369736   \n",
      "254      77     269          -0.466370              -0.247581   \n",
      "255      77     270           0.274854              -0.009182   \n",
      "256      77     271           0.195190               0.023635   \n",
      "257      77     272          -0.179647               0.068677   \n",
      "\n",
      "     Magnitude_Sales  Magnitude_Customers  \n",
      "0           0.952537             0.939115  \n",
      "1           0.936070             0.908732  \n",
      "2           0.344996             0.343159  \n",
      "3           0.180850             0.202260  \n",
      "4           0.564457             0.513580  \n",
      "..               ...                  ...  \n",
      "253         0.962489             0.943515  \n",
      "254         0.454641             0.362421  \n",
      "255         0.457923             0.391005  \n",
      "256         0.572021             0.524520  \n",
      "257         0.891748             0.948150  \n",
      "\n",
      "[258 rows x 6 columns]\n"
     ]
    }
   ],
   "source": [
    "# Merge correlation and magnitude tables\n",
    "final_scores = (\n",
    "    corr_nSales\n",
    "    .merge(corr_nCustomers, on=['Store1', 'Store2'], suffixes=('_Sales', '_Customers'))\n",
    "    .merge(magnitude_nSales, on=['Store1', 'Store2'])\n",
    "    .merge(magnitude_nCustomers, on=['Store1', 'Store2'], suffixes=('_Mag_Sales', '_Mag_Customers'))\n",
    ")\n",
    "\n",
    "# Rename columns for clarity\n",
    "final_scores = final_scores.rename(columns={\n",
    "    'corr_measure_Sales': 'Correlation_Sales',\n",
    "    'corr_measure_Customers': 'Correlation_Customers',\n",
    "    'mag_measure_Mag_Sales': 'Magnitude_Sales',\n",
    "    'mag_measure_Mag_Customers': 'Magnitude_Customers'\n",
    "})\n",
    "\n",
    "# Display final scores\n",
    "print(\"\\nFinal Scores Table:\")\n",
    "print(final_scores)\n"
   ]
  },
  {
   "cell_type": "markdown",
   "id": "99e118ff",
   "metadata": {},
   "source": [
    "## "
   ]
  },
  {
   "cell_type": "code",
   "execution_count": 17,
   "id": "ae8fdc30",
   "metadata": {},
   "outputs": [
    {
     "name": "stdout",
     "output_type": "stream",
     "text": [
      "Composite Score for Total Sales:\n",
      "     Store1  Store2  scoreNSales\n",
      "0        77       1     0.473577\n",
      "1        77       2     0.342443\n",
      "2        77       3     0.502721\n",
      "3        77       4    -0.083498\n",
      "4        77       5     0.212704\n",
      "..      ...     ...          ...\n",
      "253      77     268     0.678975\n",
      "254      77     269    -0.005865\n",
      "255      77     270     0.366389\n",
      "256      77     271     0.383605\n",
      "257      77     272     0.356050\n",
      "\n",
      "[258 rows x 3 columns]\n"
     ]
    }
   ],
   "source": [
    "# Define the weight for correlation in the composite score\n",
    "corr_weight = 0.5  # Adjust as needed\n",
    "\n",
    "# Merge correlation and magnitude tables for total sales\n",
    "score_nSales = corr_nSales.merge(\n",
    "    magnitude_nSales, on=['Store1', 'Store2']\n",
    ")\n",
    "\n",
    "# Calculate the composite score for total sales\n",
    "score_nSales['scoreNSales'] = (\n",
    "    corr_weight * score_nSales['corr_measure'] + \n",
    "    (1 - corr_weight) * score_nSales['mag_measure']\n",
    ")\n",
    "\n",
    "# Display the scores for total sales\n",
    "print(\"Composite Score for Total Sales:\")\n",
    "print(score_nSales[['Store1', 'Store2', 'scoreNSales']])\n"
   ]
  },
  {
   "cell_type": "code",
   "execution_count": 18,
   "id": "1850dce9",
   "metadata": {},
   "outputs": [
    {
     "name": "stdout",
     "output_type": "stream",
     "text": [
      "\n",
      "Composite Score for Number of Customers:\n",
      "     Store1  Store2  scoreNCust\n",
      "0        77       1    0.638490\n",
      "1        77       2    0.156120\n",
      "2        77       3    0.549204\n",
      "3        77       4   -0.051576\n",
      "4        77       5    0.369174\n",
      "..      ...     ...         ...\n",
      "253      77     268    0.656626\n",
      "254      77     269    0.057420\n",
      "255      77     270    0.190912\n",
      "256      77     271    0.274077\n",
      "257      77     272    0.508414\n",
      "\n",
      "[258 rows x 3 columns]\n"
     ]
    }
   ],
   "source": [
    "# Merge correlation and magnitude tables for number of customers\n",
    "score_nCustomers = corr_nCustomers.merge(\n",
    "    magnitude_nCustomers, on=['Store1', 'Store2']\n",
    ")\n",
    "\n",
    "# Calculate the composite score for number of customers\n",
    "score_nCustomers['scoreNCust'] = (\n",
    "    corr_weight * score_nCustomers['corr_measure'] + \n",
    "    (1 - corr_weight) * score_nCustomers['mag_measure']\n",
    ")\n",
    "\n",
    "# Display the scores for number of customers\n",
    "print(\"\\nComposite Score for Number of Customers:\")\n",
    "print(score_nCustomers[['Store1', 'Store2', 'scoreNCust']])\n"
   ]
  },
  {
   "cell_type": "code",
   "execution_count": 19,
   "id": "79ee89b0",
   "metadata": {},
   "outputs": [
    {
     "name": "stdout",
     "output_type": "stream",
     "text": [
      "\n",
      "Final Composite Scores:\n",
      "     Store1  Store2  final_score\n",
      "0        77       1     0.556034\n",
      "1        77       2     0.249282\n",
      "2        77       3     0.525963\n",
      "3        77       4    -0.067537\n",
      "4        77       5     0.290939\n",
      "..      ...     ...          ...\n",
      "253      77     268     0.667800\n",
      "254      77     269     0.025778\n",
      "255      77     270     0.278650\n",
      "256      77     271     0.328841\n",
      "257      77     272     0.432232\n",
      "\n",
      "[258 rows x 3 columns]\n"
     ]
    }
   ],
   "source": [
    "# Merge the composite scores for total sales and number of customers\n",
    "final_composite_scores = score_nSales.merge(\n",
    "    score_nCustomers, on=['Store1', 'Store2']\n",
    ")\n",
    "\n",
    "# Calculate the overall composite score\n",
    "final_composite_scores['final_score'] = (\n",
    "    0.5 * final_composite_scores['scoreNSales'] +\n",
    "    0.5 * final_composite_scores['scoreNCust']\n",
    ")\n",
    "\n",
    "# Display the final composite scores\n",
    "print(\"\\nFinal Composite Scores:\")\n",
    "print(final_composite_scores[['Store1', 'Store2', 'final_score']])\n"
   ]
  },
  {
   "cell_type": "markdown",
   "id": "77166f41",
   "metadata": {},
   "source": [
    "## "
   ]
  },
  {
   "cell_type": "code",
   "execution_count": 20,
   "id": "11119886",
   "metadata": {},
   "outputs": [
    {
     "name": "stdout",
     "output_type": "stream",
     "text": [
      "Merged Scores for Sales and Customers:\n",
      "   Store1  Store2  corr_measure_x  mag_measure_x  scoreNSales  corr_measure_y  \\\n",
      "0      77       1       -0.005382       0.952537     0.473577        0.337866   \n",
      "1      77       2       -0.251183       0.936070     0.342443       -0.596492   \n",
      "2      77       3        0.660447       0.344996     0.502721        0.755249   \n",
      "3      77       4       -0.347846       0.180850    -0.083498       -0.305412   \n",
      "4      77       5       -0.139048       0.564457     0.212704        0.224768   \n",
      "\n",
      "   mag_measure_y  scoreNCust  \n",
      "0       0.939115    0.638490  \n",
      "1       0.908732    0.156120  \n",
      "2       0.343159    0.549204  \n",
      "3       0.202260   -0.051576  \n",
      "4       0.513580    0.369174  \n"
     ]
    }
   ],
   "source": [
    "# Merge the composite scores for sales and customers into a single table\n",
    "score_Control = score_nSales.merge(\n",
    "    score_nCustomers, on=['Store1', 'Store2']\n",
    ")\n",
    "\n",
    "# Display merged table\n",
    "print(\"Merged Scores for Sales and Customers:\")\n",
    "print(score_Control.head())\n"
   ]
  },
  {
   "cell_type": "code",
   "execution_count": 21,
   "id": "0ec7635a",
   "metadata": {},
   "outputs": [
    {
     "name": "stdout",
     "output_type": "stream",
     "text": [
      "\n",
      "Final Control Scores:\n",
      "     Store1  Store2  finalControlScore\n",
      "0        77       1           0.556034\n",
      "1        77       2           0.249282\n",
      "2        77       3           0.525963\n",
      "3        77       4          -0.067537\n",
      "4        77       5           0.290939\n",
      "..      ...     ...                ...\n",
      "253      77     268           0.667800\n",
      "254      77     269           0.025778\n",
      "255      77     270           0.278650\n",
      "256      77     271           0.328841\n",
      "257      77     272           0.432232\n",
      "\n",
      "[258 rows x 3 columns]\n"
     ]
    }
   ],
   "source": [
    "# Calculate the final control score as a simple average\n",
    "score_Control['finalControlScore'] = (\n",
    "    score_Control['scoreNSales'] * 0.5 + \n",
    "    score_Control['scoreNCust'] * 0.5\n",
    ")\n",
    "\n",
    "# Display the final control scores\n",
    "print(\"\\nFinal Control Scores:\")\n",
    "print(score_Control[['Store1', 'Store2', 'finalControlScore']])\n"
   ]
  },
  {
   "cell_type": "code",
   "execution_count": 22,
   "id": "04a9b751",
   "metadata": {},
   "outputs": [
    {
     "name": "stdout",
     "output_type": "stream",
     "text": [
      "\n",
      "Top Control Stores:\n",
      "     Store1  Store2  finalControlScore\n",
      "219      77     233           0.979046\n",
      "46       77      50           0.878368\n",
      "32       77      35           0.847766\n",
      "239      77     254           0.834238\n",
      "78       77      84           0.817511\n"
     ]
    }
   ],
   "source": [
    "# Sort by final control score in descending order\n",
    "score_Control = score_Control.sort_values(by='finalControlScore', ascending=False)\n",
    "\n",
    "# Display the top control stores\n",
    "print(\"\\nTop Control Stores:\")\n",
    "print(score_Control[['Store1', 'Store2', 'finalControlScore']].head())\n"
   ]
  },
  {
   "cell_type": "markdown",
   "id": "08cc82ec",
   "metadata": {},
   "source": [
    "## "
   ]
  },
  {
   "cell_type": "code",
   "execution_count": 23,
   "id": "8aea5548",
   "metadata": {},
   "outputs": [
    {
     "name": "stdout",
     "output_type": "stream",
     "text": [
      "Control Store for Trial Store 77: Store 233.0\n",
      "Final Control Score: 0.9790463126844046\n"
     ]
    }
   ],
   "source": [
    "# Exclude the trial store itself and find the store with the highest score\n",
    "control_store = score_Control[\n",
    "    score_Control['Store1'] == 77  # Focus on trial store 77\n",
    "].sort_values(by='finalControlScore', ascending=False)\n",
    "\n",
    "# Exclude the trial store itself (Store2 should not equal Store1)\n",
    "control_store = control_store[control_store['Store1'] != control_store['Store2']]\n",
    "\n",
    "# Select the top control store\n",
    "top_control_store = control_store.iloc[0]  # Select the first row (highest score)\n",
    "\n",
    "# Display the selected control store\n",
    "print(f\"Control Store for Trial Store 77: Store {top_control_store['Store2']}\")\n",
    "print(f\"Final Control Score: {top_control_store['finalControlScore']}\")\n"
   ]
  },
  {
   "cell_type": "markdown",
   "id": "6177f714",
   "metadata": {},
   "source": [
    "## "
   ]
  },
  {
   "cell_type": "code",
   "execution_count": 25,
   "id": "97daf4b9",
   "metadata": {},
   "outputs": [],
   "source": [
    "\n",
    "# Define trial and control stores\n",
    "trial_store = 77\n",
    "control_store_id = top_control_store['Store2']  # The control store selected earlier\n",
    "\n",
    "# Categorize stores as \"Trial\", \"Control\", or \"Other\"\n",
    "measure_over_time['Store_type'] = measure_over_time['STORE_NBR'].apply(\n",
    "    lambda x: 'Trial' if x == trial_store else 'Control' if x == control_store_id else 'Other stores'\n",
    ")\n",
    "\n",
    "# Calculate average total sales for each month and store type\n",
    "past_sales = (\n",
    "    measure_over_time\n",
    "    .groupby(['YEARMONTH', 'Store_type'], as_index=False)\n",
    "    .agg(totSales=('totSales', 'mean'))\n",
    ")\n",
    "\n",
    "# Convert YEARMONTH to a datetime format for plotting\n",
    "past_sales['TransactionMonth'] = pd.to_datetime(past_sales['YEARMONTH'], format='%Y%m')\n",
    "\n",
    "# Filter to the period before March 2019\n",
    "past_sales = past_sales[past_sales['YEARMONTH'] < '201903']\n"
   ]
  },
  {
   "cell_type": "code",
   "execution_count": 26,
   "id": "e6619026",
   "metadata": {},
   "outputs": [
    {
     "data": {
      "image/png": "[encoded data removed]",
      "text/plain": [
       "<Figure size 1200x600 with 1 Axes>"
      ]
     },
     "metadata": {},
     "output_type": "display_data"
    }
   ],
   "source": [
    "# Create the plot\n",
    "plt.figure(figsize=(12, 6))\n",
    "sns.lineplot(\n",
    "    data=past_sales, \n",
    "    x='TransactionMonth', \n",
    "    y='totSales', \n",
    "    hue='Store_type', \n",
    "    marker='o'\n",
    ")\n",
    "\n",
    "# Customize the plot\n",
    "plt.title(\"Total Sales by Month\", fontsize=16)\n",
    "plt.xlabel(\"Month of Operation\", fontsize=14)\n",
    "plt.ylabel(\"Total Sales\", fontsize=14)\n",
    "plt.legend(title=\"Store Type\", fontsize=12)\n",
    "plt.xticks(rotation=45)\n",
    "plt.grid(axis='y', linestyle='--', alpha=0.7)\n",
    "\n",
    "# Show the plot\n",
    "plt.tight_layout()\n",
    "plt.show()\n"
   ]
  },
  {
   "cell_type": "markdown",
   "id": "60deeae0",
   "metadata": {},
   "source": [
    "## "
   ]
  },
  {
   "cell_type": "code",
   "execution_count": 28,
   "id": "6ba79ead",
   "metadata": {},
   "outputs": [
    {
     "data": {
      "image/png": "[encoded data removed]",
      "text/plain": [
       "<Figure size 1200x600 with 1 Axes>"
      ]
     },
     "metadata": {},
     "output_type": "display_data"
    }
   ],
   "source": [
    "# Calculate average number of customers for each month and store type\n",
    "past_customers = (\n",
    "    measure_over_time\n",
    "    .groupby(['YEARMONTH', 'Store_type'], as_index=False)\n",
    "    .agg(nCustomers=('nCustomers', 'mean'))\n",
    ")\n",
    "\n",
    "# Convert YEARMONTH to a datetime format for plotting\n",
    "past_customers['TransactionMonth'] = pd.to_datetime(past_customers['YEARMONTH'], format='%Y%m')\n",
    "\n",
    "# Filter to the period before March 2019\n",
    "past_customers = past_customers[past_customers['YEARMONTH'] < '201903']\n",
    "# Create the plot\n",
    "plt.figure(figsize=(12, 6))\n",
    "sns.lineplot(\n",
    "    data=past_customers, \n",
    "    x='TransactionMonth', \n",
    "    y='nCustomers', \n",
    "    hue='Store_type', \n",
    "    marker='o'\n",
    ")\n",
    "\n",
    "# Customize the plot\n",
    "plt.title(\"Number of Customers by Month\", fontsize=16)\n",
    "plt.xlabel(\"Month of Operation\", fontsize=14)\n",
    "plt.ylabel(\"Number of Customers\", fontsize=14)\n",
    "plt.legend(title=\"Store Type\", fontsize=12)\n",
    "plt.xticks(rotation=45)\n",
    "plt.grid(axis='y', linestyle='--', alpha=0.7)\n",
    "\n",
    "# Show the plot\n",
    "plt.tight_layout()\n",
    "plt.show()\n"
   ]
  },
  {
   "cell_type": "markdown",
   "id": "4f3b301a",
   "metadata": {},
   "source": [
    "## Comparison of results during trial"
   ]
  },
  {
   "cell_type": "code",
   "execution_count": 29,
   "id": "266bce5e",
   "metadata": {},
   "outputs": [
    {
     "name": "stdout",
     "output_type": "stream",
     "text": [
      "Scaling Factor for Control Store Sales: 1.0397523623330076\n"
     ]
    }
   ],
   "source": [
    "# Calculate total sales for the trial store and control store during the pre-trial period\n",
    "trial_store_sales = pre_trial_measures[\n",
    "    (pre_trial_measures['STORE_NBR'] == trial_store)\n",
    "]['totSales'].sum()\n",
    "\n",
    "control_store_sales = pre_trial_measures[\n",
    "    (pre_trial_measures['STORE_NBR'] == control_store_id)\n",
    "]['totSales'].sum()\n",
    "\n",
    "# Calculate the scaling factor\n",
    "scaling_factor = trial_store_sales / control_store_sales\n",
    "\n",
    "print(f\"Scaling Factor for Control Store Sales: {scaling_factor}\")\n"
   ]
  },
  {
   "cell_type": "code",
   "execution_count": 30,
   "id": "7e4aaeb6",
   "metadata": {},
   "outputs": [
    {
     "name": "stdout",
     "output_type": "stream",
     "text": [
      "\n",
      "Scaled Control Sales:\n",
      "     YEARMONTH  totSales  scaledControlSales\n",
      "2695    201807     271.2          281.980841\n",
      "2696    201808     260.7          271.063441\n",
      "2697    201809     220.9          229.681297\n",
      "2698    201810     159.3          165.632551\n",
      "2699    201811     206.5          214.708863\n"
     ]
    }
   ],
   "source": [
    "# Create a copy of the original data to avoid modifying it directly\n",
    "measure_over_time_sales = measure_over_time.copy()\n",
    "\n",
    "# Apply the scaling factor to the control store's sales\n",
    "measure_over_time_sales.loc[\n",
    "    measure_over_time_sales['STORE_NBR'] == control_store_id, 'scaledControlSales'\n",
    "] = measure_over_time_sales['totSales'] * scaling_factor\n",
    "\n",
    "# Verify the scaled control sales\n",
    "scaled_control_sales = measure_over_time_sales[\n",
    "    measure_over_time_sales['STORE_NBR'] == control_store_id\n",
    "][['YEARMONTH', 'totSales', 'scaledControlSales']]\n",
    "\n",
    "print(\"\\nScaled Control Sales:\")\n",
    "print(scaled_control_sales.head())\n"
   ]
  },
  {
   "cell_type": "code",
   "execution_count": null,
   "id": "f3e4fa59",
   "metadata": {},
   "outputs": [],
   "source": []
  },
  {
   "cell_type": "code",
   "execution_count": 35,
   "id": "e53e47f1",
   "metadata": {},
   "outputs": [
    {
     "name": "stdout",
     "output_type": "stream",
     "text": [
      "Flattened Pivot Table:\n",
      "  YEARMONTH  scaledControlSales_233  totSales_77  totSales_233\n",
      "0    201902              229.473346        211.6         220.7\n",
      "1    201903              187.779277        255.1         180.6\n",
      "2    201904              149.932291        258.1         144.2\n"
     ]
    }
   ],
   "source": [
    "# Pivot the table\n",
    "trial_control_sales_pivot = trial_and_control_sales.pivot_table(\n",
    "    index='YEARMONTH',\n",
    "    columns='STORE_NBR',\n",
    "    values=['totSales', 'scaledControlSales']\n",
    ")\n",
    "\n",
    "# Flatten multi-level column index\n",
    "trial_control_sales_pivot.columns = ['_'.join(map(str, col)) for col in trial_control_sales_pivot.columns]\n",
    "trial_control_sales_pivot = trial_control_sales_pivot.reset_index()\n",
    "\n",
    "# Display the flattened pivot table\n",
    "print(\"Flattened Pivot Table:\")\n",
    "print(trial_control_sales_pivot.head())\n"
   ]
  },
  {
   "cell_type": "code",
   "execution_count": 36,
   "id": "9c6032fa",
   "metadata": {},
   "outputs": [
    {
     "ename": "ValueError",
     "evalue": "Length mismatch: Expected axis has 4 elements, new values have 3 elements",
     "output_type": "error",
     "traceback": [
      "\u001b[1;31m---------------------------------------------------------------------------\u001b[0m",
      "\u001b[1;31mValueError\u001b[0m                                Traceback (most recent call last)",
      "Cell \u001b[1;32mIn[36], line 2\u001b[0m\n\u001b[0;32m      1\u001b[0m \u001b[38;5;66;03m# Rename columns to make them clear\u001b[39;00m\n\u001b[1;32m----> 2\u001b[0m trial_control_sales_pivot\u001b[38;5;241m.\u001b[39mcolumns \u001b[38;5;241m=\u001b[39m [\n\u001b[0;32m      3\u001b[0m     \u001b[38;5;124m'\u001b[39m\u001b[38;5;124mYEARMONTH\u001b[39m\u001b[38;5;124m'\u001b[39m,\n\u001b[0;32m      4\u001b[0m     \u001b[38;5;124m'\u001b[39m\u001b[38;5;124mTrial_Sales\u001b[39m\u001b[38;5;124m'\u001b[39m,\n\u001b[0;32m      5\u001b[0m     \u001b[38;5;124m'\u001b[39m\u001b[38;5;124mControl_Scaled_Sales\u001b[39m\u001b[38;5;124m'\u001b[39m\n\u001b[0;32m      6\u001b[0m ]\n\u001b[0;32m      8\u001b[0m \u001b[38;5;66;03m# Verify the renamed table\u001b[39;00m\n\u001b[0;32m      9\u001b[0m \u001b[38;5;28mprint\u001b[39m(\u001b[38;5;124m\"\u001b[39m\u001b[38;5;130;01m\\n\u001b[39;00m\u001b[38;5;124mRenamed Columns:\u001b[39m\u001b[38;5;124m\"\u001b[39m)\n",
      "File \u001b[1;32m~\\anaconda3\\lib\\site-packages\\pandas\\core\\generic.py:6218\u001b[0m, in \u001b[0;36mNDFrame.__setattr__\u001b[1;34m(self, name, value)\u001b[0m\n\u001b[0;32m   6216\u001b[0m \u001b[38;5;28;01mtry\u001b[39;00m:\n\u001b[0;32m   6217\u001b[0m     \u001b[38;5;28mobject\u001b[39m\u001b[38;5;241m.\u001b[39m\u001b[38;5;21m__getattribute__\u001b[39m(\u001b[38;5;28mself\u001b[39m, name)\n\u001b[1;32m-> 6218\u001b[0m     \u001b[38;5;28;01mreturn\u001b[39;00m \u001b[38;5;28;43mobject\u001b[39;49m\u001b[38;5;241;43m.\u001b[39;49m\u001b[38;5;21;43m__setattr__\u001b[39;49m\u001b[43m(\u001b[49m\u001b[38;5;28;43mself\u001b[39;49m\u001b[43m,\u001b[49m\u001b[43m \u001b[49m\u001b[43mname\u001b[49m\u001b[43m,\u001b[49m\u001b[43m \u001b[49m\u001b[43mvalue\u001b[49m\u001b[43m)\u001b[49m\n\u001b[0;32m   6219\u001b[0m \u001b[38;5;28;01mexcept\u001b[39;00m \u001b[38;5;167;01mAttributeError\u001b[39;00m:\n\u001b[0;32m   6220\u001b[0m     \u001b[38;5;28;01mpass\u001b[39;00m\n",
      "File \u001b[1;32mproperties.pyx:69\u001b[0m, in \u001b[0;36mpandas._libs.properties.AxisProperty.__set__\u001b[1;34m()\u001b[0m\n",
      "File \u001b[1;32m~\\anaconda3\\lib\\site-packages\\pandas\\core\\generic.py:767\u001b[0m, in \u001b[0;36mNDFrame._set_axis\u001b[1;34m(self, axis, labels)\u001b[0m\n\u001b[0;32m    762\u001b[0m \u001b[38;5;250m\u001b[39m\u001b[38;5;124;03m\"\"\"\u001b[39;00m\n\u001b[0;32m    763\u001b[0m \u001b[38;5;124;03mThis is called from the cython code when we set the `index` attribute\u001b[39;00m\n\u001b[0;32m    764\u001b[0m \u001b[38;5;124;03mdirectly, e.g. `series.index = [1, 2, 3]`.\u001b[39;00m\n\u001b[0;32m    765\u001b[0m \u001b[38;5;124;03m\"\"\"\u001b[39;00m\n\u001b[0;32m    766\u001b[0m labels \u001b[38;5;241m=\u001b[39m ensure_index(labels)\n\u001b[1;32m--> 767\u001b[0m \u001b[38;5;28;43mself\u001b[39;49m\u001b[38;5;241;43m.\u001b[39;49m\u001b[43m_mgr\u001b[49m\u001b[38;5;241;43m.\u001b[39;49m\u001b[43mset_axis\u001b[49m\u001b[43m(\u001b[49m\u001b[43maxis\u001b[49m\u001b[43m,\u001b[49m\u001b[43m \u001b[49m\u001b[43mlabels\u001b[49m\u001b[43m)\u001b[49m\n\u001b[0;32m    768\u001b[0m \u001b[38;5;28mself\u001b[39m\u001b[38;5;241m.\u001b[39m_clear_item_cache()\n",
      "File \u001b[1;32m~\\anaconda3\\lib\\site-packages\\pandas\\core\\internals\\managers.py:227\u001b[0m, in \u001b[0;36mBaseBlockManager.set_axis\u001b[1;34m(self, axis, new_labels)\u001b[0m\n\u001b[0;32m    225\u001b[0m \u001b[38;5;28;01mdef\u001b[39;00m \u001b[38;5;21mset_axis\u001b[39m(\u001b[38;5;28mself\u001b[39m, axis: AxisInt, new_labels: Index) \u001b[38;5;241m-\u001b[39m\u001b[38;5;241m>\u001b[39m \u001b[38;5;28;01mNone\u001b[39;00m:\n\u001b[0;32m    226\u001b[0m     \u001b[38;5;66;03m# Caller is responsible for ensuring we have an Index object.\u001b[39;00m\n\u001b[1;32m--> 227\u001b[0m     \u001b[38;5;28;43mself\u001b[39;49m\u001b[38;5;241;43m.\u001b[39;49m\u001b[43m_validate_set_axis\u001b[49m\u001b[43m(\u001b[49m\u001b[43maxis\u001b[49m\u001b[43m,\u001b[49m\u001b[43m \u001b[49m\u001b[43mnew_labels\u001b[49m\u001b[43m)\u001b[49m\n\u001b[0;32m    228\u001b[0m     \u001b[38;5;28mself\u001b[39m\u001b[38;5;241m.\u001b[39maxes[axis] \u001b[38;5;241m=\u001b[39m new_labels\n",
      "File \u001b[1;32m~\\anaconda3\\lib\\site-packages\\pandas\\core\\internals\\base.py:85\u001b[0m, in \u001b[0;36mDataManager._validate_set_axis\u001b[1;34m(self, axis, new_labels)\u001b[0m\n\u001b[0;32m     82\u001b[0m     \u001b[38;5;28;01mpass\u001b[39;00m\n\u001b[0;32m     84\u001b[0m \u001b[38;5;28;01melif\u001b[39;00m new_len \u001b[38;5;241m!=\u001b[39m old_len:\n\u001b[1;32m---> 85\u001b[0m     \u001b[38;5;28;01mraise\u001b[39;00m \u001b[38;5;167;01mValueError\u001b[39;00m(\n\u001b[0;32m     86\u001b[0m         \u001b[38;5;124mf\u001b[39m\u001b[38;5;124m\"\u001b[39m\u001b[38;5;124mLength mismatch: Expected axis has \u001b[39m\u001b[38;5;132;01m{\u001b[39;00mold_len\u001b[38;5;132;01m}\u001b[39;00m\u001b[38;5;124m elements, new \u001b[39m\u001b[38;5;124m\"\u001b[39m\n\u001b[0;32m     87\u001b[0m         \u001b[38;5;124mf\u001b[39m\u001b[38;5;124m\"\u001b[39m\u001b[38;5;124mvalues have \u001b[39m\u001b[38;5;132;01m{\u001b[39;00mnew_len\u001b[38;5;132;01m}\u001b[39;00m\u001b[38;5;124m elements\u001b[39m\u001b[38;5;124m\"\u001b[39m\n\u001b[0;32m     88\u001b[0m     )\n",
      "\u001b[1;31mValueError\u001b[0m: Length mismatch: Expected axis has 4 elements, new values have 3 elements"
     ]
    }
   ],
   "source": [
    "# Rename columns to make them clear\n",
    "trial_control_sales_pivot.columns = [\n",
    "    'YEARMONTH',\n",
    "    'Trial_Sales',\n",
    "    'Control_Scaled_Sales'\n",
    "]\n",
    "\n",
    "# Verify the renamed table\n",
    "print(\"\\nRenamed Columns:\")\n",
    "print(trial_control_sales_pivot.head())\n"
   ]
  },
  {
   "cell_type": "code",
   "execution_count": null,
   "id": "95f61968",
   "metadata": {},
   "outputs": [],
   "source": []
  }
 ],
 "metadata": {
  "kernelspec": {
   "display_name": "Python 3 (ipykernel)",
   "language": "python",
   "name": "python3"
  },
  "language_info": {
   "codemirror_mode": {
    "name": "ipython",
    "version": 3
   },
   "file_extension": ".py",
   "mimetype": "text/x-python",
   "name": "python",
   "nbconvert_exporter": "python",
   "pygments_lexer": "ipython3",
   "version": "3.10.13"
  }
 },
 "nbformat": 4,
 "nbformat_minor": 5
}
